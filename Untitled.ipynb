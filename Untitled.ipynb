{
 "cells": [
  {
   "cell_type": "code",
   "execution_count": 7,
   "id": "ba8aaefa-4b3a-4795-8e3a-26f87c8df304",
   "metadata": {},
   "outputs": [],
   "source": [
    "import argparse\n",
    "import time\n",
    "import numpy as np\n",
    "\n",
    "import brainflow\n",
    "from brainflow.board_shim import BoardShim, BrainFlowInputParams\n",
    "from brainflow.data_filter import DataFilter, FilterTypes, AggOperations\n",
    "\n",
    "#---\n",
    "import matplotlib.pyplot as plt"
   ]
  },
  {
   "cell_type": "code",
   "execution_count": 19,
   "id": "b19cd274-db18-4801-9fd7-201557bfc7b4",
   "metadata": {},
   "outputs": [
    {
     "name": "stderr",
     "output_type": "stream",
     "text": [
      "[2021-10-05 11:23:51.217] [board_logger] [info] incoming json: {\n",
      "    \"file\": \"\",\n",
      "    \"ip_address\": \"\",\n",
      "    \"ip_port\": 0,\n",
      "    \"ip_protocol\": 0,\n",
      "    \"mac_address\": \"\",\n",
      "    \"other_info\": \"\",\n",
      "    \"serial_number\": \"\",\n",
      "    \"serial_port\": \"/dev/ttyS0\",\n",
      "    \"timeout\": 0\n",
      "}\n",
      "[2021-10-05 11:23:51.217] [board_logger] [trace] Board object created -1\n",
      "[2021-10-05 11:23:51.217] [board_logger] [trace] prepare session\n"
     ]
    }
   ],
   "source": [
    "BoardShim.enable_dev_board_logger()\n",
    "\n",
    "\"\"\"\n",
    "parser = argparse.ArgumentParser()\n",
    "# use docs to check which parameters are required for specific board, e.g. for Cyton - set serial port\n",
    "parser.add_argument('--timeout', type=int, help='timeout for device discovery or connection', required=False,\n",
    "                    default=0)\n",
    "parser.add_argument('--ip-port', type=int, help='ip port', required=False, default=0)\n",
    "parser.add_argument('--ip-protocol', type=int, help='ip protocol, check IpProtocolType enum', required=False,\n",
    "                    default=0)\n",
    "parser.add_argument('--ip-address', type=str, help='ip address', required=False, default='')\n",
    "parser.add_argument('--serial-port', type=str, help='serial port', required=False, default='')\n",
    "parser.add_argument('--mac-address', type=str, help='mac address', required=False, default='')\n",
    "parser.add_argument('--other-info', type=str, help='other info', required=False, default='')\n",
    "parser.add_argument('--streamer-params', type=str, help='streamer params', required=False, default='')\n",
    "parser.add_argument('--serial-number', type=str, help='serial number', required=False, default='')\n",
    "parser.add_argument('--board-id', type=int, help='board id, check docs to get a list of supported boards',\n",
    "                    required=True)\n",
    "parser.add_argument('--file', type=str, help='file', required=False, default='')\n",
    "args = parser.parse_args()\n",
    "\"\"\"\n",
    "params = BrainFlowInputParams()\n",
    "# params.ip_port = args.ip_port\n",
    "params.serial_port = \"/dev/ttyS0\"\n",
    "#params.mac_address = args.mac_address\n",
    "#params.other_info = args.other_info\n",
    "#params.serial_number = args.serial_number\n",
    "#params.ip_address = args.ip_address\n",
    "#params.ip_protocol = args.ip_protocol\n",
    "#params.timeout = args.timeout\n",
    "#params.file = args.file\n",
    "\n",
    "board_id = -1\n",
    "\n",
    "board = BoardShim(board_id, params)\n",
    "board.prepare_session()"
   ]
  },
  {
   "cell_type": "code",
   "execution_count": 20,
   "id": "f3a7eb77-266d-451f-bc33-efb9e5ec19cc",
   "metadata": {},
   "outputs": [
    {
     "name": "stderr",
     "output_type": "stream",
     "text": [
      "[2021-10-05 11:23:51.748] [board_logger] [debug] use stub streamer\n"
     ]
    },
    {
     "name": "stdout",
     "output_type": "stream",
     "text": [
      "[[ 0.00000000e+00  1.00000000e+00  2.00000000e+00 ...  1.65000000e+02\n",
      "   1.66000000e+02  1.67000000e+02]\n",
      " [ 1.83960874e+00  3.46946174e+00  5.36099291e+00 ...  8.15121279e+00\n",
      "   6.52359778e+00  5.22133024e+00]\n",
      " [ 8.65744502e+00  1.55102603e+01  1.91290089e+01 ... -2.58834103e+01\n",
      "  -2.30170635e+01 -1.91222290e+01]\n",
      " ...\n",
      " [ 9.20432805e+01  9.55424732e+01  8.85453382e+01 ...  9.15989490e+01\n",
      "   9.30227714e+01  9.59033248e+01]\n",
      " [ 1.63342583e+09  1.63342583e+09  1.63342583e+09 ...  1.63342584e+09\n",
      "   1.63342584e+09  1.63342584e+09]\n",
      " [ 0.00000000e+00  0.00000000e+00  0.00000000e+00 ...  0.00000000e+00\n",
      "   0.00000000e+00  0.00000000e+00]]\n",
      "(32, 2472) <class 'numpy.ndarray'>\n",
      "Done!\n"
     ]
    },
    {
     "name": "stderr",
     "output_type": "stream",
     "text": [
      "[2021-10-05 11:24:01.760] [board_logger] [trace] stop stream\n",
      "[2021-10-05 11:24:01.763] [board_logger] [trace] release session\n",
      "[2021-10-05 11:24:01.763] [board_logger] [trace] stop stream\n"
     ]
    }
   ],
   "source": [
    "# board.start_stream () # use this for default options\n",
    "board.start_stream(45000) #, args.streamer_params)\n",
    "time.sleep(10)\n",
    "# data = board.get_current_board_data (256) # get latest 256 packages or less, doesnt remove them from internal buffer\n",
    "data = board.get_board_data()  # get all data and remove it from internal buffer\n",
    "board.stop_stream()\n",
    "board.release_session()\n",
    "\n",
    "print(data)\n",
    "print(data.shape, type(data))\n",
    "print(\"Done!\")"
   ]
  },
  {
   "cell_type": "code",
   "execution_count": 6,
   "id": "7e206145-a35f-4b77-8a2c-1e44bd1e4b0b",
   "metadata": {},
   "outputs": [
    {
     "data": {
      "text/plain": [
       "(32, 2467)"
      ]
     },
     "execution_count": 6,
     "metadata": {},
     "output_type": "execute_result"
    }
   ],
   "source": [
    "data"
   ]
  },
  {
   "cell_type": "code",
   "execution_count": 17,
   "id": "c284c9f5-d9c5-4b49-8648-e4edf3b4a930",
   "metadata": {},
   "outputs": [
    {
     "data": {
      "image/png": "[encoded data removed]",
      "text/plain": [
       "<Figure size 432x288 with 1 Axes>"
      ]
     },
     "metadata": {
      "needs_background": "light"
     },
     "output_type": "display_data"
    }
   ],
   "source": [
    "plt.plot(data[7])\n",
    "plt.show()"
   ]
  },
  {
   "cell_type": "code",
   "execution_count": null,
   "id": "5f42d2dd-d64a-4a3e-b37f-f324182646d6",
   "metadata": {},
   "outputs": [],
   "source": []
  }
 ],
 "metadata": {
  "kernelspec": {
   "display_name": "Python 3 (ipykernel)",
   "language": "python",
   "name": "python3"
  },
  "language_info": {
   "codemirror_mode": {
    "name": "ipython",
    "version": 3
   },
   "file_extension": ".py",
   "mimetype": "text/x-python",
   "name": "python",
   "nbconvert_exporter": "python",
   "pygments_lexer": "ipython3",
   "version": "3.9.7"
  }
 },
 "nbformat": 4,
 "nbformat_minor": 5
}
