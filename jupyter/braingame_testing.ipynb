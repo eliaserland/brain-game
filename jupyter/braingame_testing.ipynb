{
 "cells": [
  {
   "cell_type": "code",
   "execution_count": 1,
   "metadata": {},
   "outputs": [],
   "source": [
    "import argparse\n",
    "import time\n",
    "import numpy as np\n",
    "\n",
    "import brainflow as bf\n",
    "from brainflow.board_shim import BoardShim, BrainFlowInputParams\n",
    "from brainflow.data_filter import DataFilter, FilterTypes, AggOperations"
   ]
  },
  {
   "cell_type": "code",
   "execution_count": 2,
   "metadata": {},
   "outputs": [
    {
     "data": {
      "text/plain": [
       "<module 'brainflow' from '/home/elias/anaconda3/envs/brain-game2/lib/python3.9/site-packages/brainflow/__init__.py'>"
      ]
     },
     "execution_count": 2,
     "metadata": {},
     "output_type": "execute_result"
    }
   ],
   "source": [
    "bf"
   ]
  },
  {
   "cell_type": "code",
   "execution_count": null,
   "metadata": {},
   "outputs": [],
   "source": []
  },
  {
   "cell_type": "code",
   "execution_count": null,
   "metadata": {},
   "outputs": [],
   "source": []
  },
  {
   "cell_type": "code",
   "execution_count": null,
   "metadata": {},
   "outputs": [],
   "source": []
  },
  {
   "cell_type": "code",
   "execution_count": null,
   "metadata": {},
   "outputs": [],
   "source": []
  },
  {
   "cell_type": "code",
   "execution_count": 5,
   "metadata": {},
   "outputs": [
    {
     "data": {
      "text/plain": [
       "\u001b[0;31mSignature:\u001b[0m\n",
       "\u001b[0mbf\u001b[0m\u001b[0;34m.\u001b[0m\u001b[0mboard_shim\u001b[0m\u001b[0;34m.\u001b[0m\u001b[0mBoardShim\u001b[0m\u001b[0;34m.\u001b[0m\u001b[0mstart_stream\u001b[0m\u001b[0;34m(\u001b[0m\u001b[0;34m\u001b[0m\n",
       "\u001b[0;34m\u001b[0m    \u001b[0mself\u001b[0m\u001b[0;34m,\u001b[0m\u001b[0;34m\u001b[0m\n",
       "\u001b[0;34m\u001b[0m    \u001b[0mnum_samples\u001b[0m\u001b[0;34m:\u001b[0m \u001b[0mint\u001b[0m \u001b[0;34m=\u001b[0m \u001b[0;36m450000\u001b[0m\u001b[0;34m,\u001b[0m\u001b[0;34m\u001b[0m\n",
       "\u001b[0;34m\u001b[0m    \u001b[0mstreamer_params\u001b[0m\u001b[0;34m:\u001b[0m \u001b[0mstr\u001b[0m \u001b[0;34m=\u001b[0m \u001b[0;32mNone\u001b[0m\u001b[0;34m,\u001b[0m\u001b[0;34m\u001b[0m\n",
       "\u001b[0;34m\u001b[0m\u001b[0;34m)\u001b[0m \u001b[0;34m->\u001b[0m \u001b[0;32mNone\u001b[0m\u001b[0;34m\u001b[0m\u001b[0;34m\u001b[0m\u001b[0m\n",
       "\u001b[0;31mDocstring:\u001b[0m\n",
       "Start streaming data, this methods stores data in ringbuffer\n",
       ":param num_samples: size of ring buffer to keep data\n",
       ":type num_samples: int\n",
       ":param streamer_params parameter to stream data from brainflow, supported vals: \"file://%file_name%:w\", \"file://%file_name%:a\", \"streaming_board://%multicast_group_ip%:%port%\". Range for multicast addresses is from \"224.0.0.0\" to \"239.255.255.255\"\n",
       ":type streamer_params: str\n",
       "\u001b[0;31mFile:\u001b[0m      ~/anaconda3/envs/braingame/lib/python3.9/site-packages/brainflow/board_shim.py\n",
       "\u001b[0;31mType:\u001b[0m      function\n"
      ]
     },
     "metadata": {},
     "output_type": "display_data"
    }
   ],
   "source": [
    "bf.board_shim.BoardShim.start_stream?"
   ]
  },
  {
   "cell_type": "code",
   "execution_count": 2,
   "metadata": {},
   "outputs": [
    {
     "name": "stderr",
     "output_type": "stream",
     "text": [
      "usage: ipykernel_launcher.py [-h] [--timeout TIMEOUT] [--ip-port IP_PORT]\n",
      "                             [--ip-protocol IP_PROTOCOL]\n",
      "                             [--ip-address IP_ADDRESS]\n",
      "                             [--serial-port SERIAL_PORT]\n",
      "                             [--mac-address MAC_ADDRESS]\n",
      "                             [--other-info OTHER_INFO]\n",
      "                             [--streamer-params STREAMER_PARAMS]\n",
      "                             [--serial-number SERIAL_NUMBER] --board-id\n",
      "                             BOARD_ID [--file FILE]\n",
      "ipykernel_launcher.py: error: the following arguments are required: --board-id\n"
     ]
    },
    {
     "ename": "SystemExit",
     "evalue": "2",
     "output_type": "error",
     "traceback": [
      "An exception has occurred, use %tb to see the full traceback.\n",
      "\u001b[0;31mSystemExit\u001b[0m\u001b[0;31m:\u001b[0m 2\n"
     ]
    },
    {
     "name": "stderr",
     "output_type": "stream",
     "text": [
      "/home/elias/.local/lib/python3.9/site-packages/IPython/core/interactiveshell.py:3449: UserWarning: To exit: use 'exit', 'quit', or Ctrl-D.\n",
      "  warn(\"To exit: use 'exit', 'quit', or Ctrl-D.\", stacklevel=1)\n"
     ]
    }
   ],
   "source": [
    "def main():\n",
    "    BoardShim.enable_dev_board_logger()\n",
    "\n",
    "    parser = argparse.ArgumentParser()\n",
    "    # use docs to check which parameters are required for specific board, e.g. for Cyton - set serial port\n",
    "    parser.add_argument('--timeout', type=int, help='timeout for device discovery or connection', required=False,\n",
    "                        default=0)\n",
    "    parser.add_argument('--ip-port', type=int, help='ip port', required=False, default=0)\n",
    "    parser.add_argument('--ip-protocol', type=int, help='ip protocol, check IpProtocolType enum', required=False,\n",
    "                        default=0)\n",
    "    parser.add_argument('--ip-address', type=str, help='ip address', required=False, default='')\n",
    "    parser.add_argument('--serial-port', type=str, help='serial port', required=False, default='')\n",
    "    parser.add_argument('--mac-address', type=str, help='mac address', required=False, default='')\n",
    "    parser.add_argument('--other-info', type=str, help='other info', required=False, default='')\n",
    "    parser.add_argument('--streamer-params', type=str, help='streamer params', required=False, default='')\n",
    "    parser.add_argument('--serial-number', type=str, help='serial number', required=False, default='')\n",
    "    parser.add_argument('--board-id', type=int, help='board id, check docs to get a list of supported boards',\n",
    "                        required=True)\n",
    "    parser.add_argument('--file', type=str, help='file', required=False, default='')\n",
    "    args = parser.parse_args()\n",
    "\n",
    "    params = BrainFlowInputParams()\n",
    "    params.ip_port = args.ip_port\n",
    "    params.serial_port = args.serial_port\n",
    "    params.mac_address = args.mac_address\n",
    "    params.other_info = args.other_info\n",
    "    params.serial_number = args.serial_number\n",
    "    params.ip_address = args.ip_address\n",
    "    params.ip_protocol = args.ip_protocol\n",
    "    params.timeout = args.timeout\n",
    "    params.file = args.file\n",
    "\n",
    "    board = BoardShim(args.board_id, params)\n",
    "    board.prepare_session()\n",
    "\n",
    "    # board.start_stream() # use this for default options\n",
    "    board.start_stream(45000, args.streamer_params)\n",
    "    time.sleep(10)\n",
    "    # data = board.get_current_board_data(256) # get latest 256 packages or less, doesnt remove them from internal buffer\n",
    "    data = board.get_board_data()  # get all data and remove it from internal buffer\n",
    "    board.stop_stream()\n",
    "    board.release_session()\n",
    "\n",
    "    print(data)\n",
    "\n",
    "\n",
    "if __name__ == \"__main__\":\n",
    "    main()"
   ]
  },
  {
   "cell_type": "code",
   "execution_count": null,
   "metadata": {},
   "outputs": [],
   "source": []
  },
  {
   "cell_type": "code",
   "execution_count": null,
   "metadata": {},
   "outputs": [],
   "source": []
  },
  {
   "cell_type": "code",
   "execution_count": null,
   "metadata": {},
   "outputs": [],
   "source": []
  }
 ],
 "metadata": {
  "kernelspec": {
   "display_name": "Python 3 (ipykernel)",
   "language": "python",
   "name": "python3"
  },
  "language_info": {
   "codemirror_mode": {
    "name": "ipython",
    "version": 3
   },
   "file_extension": ".py",
   "mimetype": "text/x-python",
   "name": "python",
   "nbconvert_exporter": "python",
   "pygments_lexer": "ipython3",
   "version": "3.9.7"
  }
 },
 "nbformat": 4,
 "nbformat_minor": 4
}
